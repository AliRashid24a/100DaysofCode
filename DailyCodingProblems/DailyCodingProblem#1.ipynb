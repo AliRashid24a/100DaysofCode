{
 "cells": [
  {
   "cell_type": "markdown",
   "metadata": {},
   "source": [
    "Given a list of numbers and a number k, return whether any two numbers from the list add up to k."
   ]
  },
  {
   "cell_type": "code",
   "execution_count": 5,
   "metadata": {},
   "outputs": [],
   "source": [
    "def sum_found(list, target):\n",
    "    for num1 in list:\n",
    "        for num2 in list:\n",
    "            if num1 + num2 == target:\n",
    "                return f\"{num1}\" + f\" + {num2}\" + \" = \" + f\"{target}\"\n",
    "            else:\n",
    "                return False"
   ]
  },
  {
   "cell_type": "code",
   "execution_count": 6,
   "metadata": {},
   "outputs": [
    {
     "name": "stdout",
     "output_type": "stream",
     "text": [
      "False\n"
     ]
    }
   ],
   "source": [
    "list = [10, 15, 3, 7]\n",
    "k = 3\n",
    "\n",
    "print(sum_found(list,k))"
   ]
  },
  {
   "cell_type": "markdown",
   "metadata": {},
   "source": [
    "Given an array of integers, return a new array such that each element at index i of the new array is the product of all the numbers in the original array except the one at i."
   ]
  },
  {
   "cell_type": "code",
   "execution_count": 24,
   "metadata": {},
   "outputs": [],
   "source": [
    "def product_array(list):\n",
    "    returnArray = []\n",
    "    # for every item in the list, find the product of every other item in the list and append it to the returnArray\n",
    "    for i in range(len(list)):\n",
    "        product = 1\n",
    "        # for every item in the list that isnt itself, cacluate its product and add it to the return array\n",
    "        for j in range(len(list)):\n",
    "            if list[i] == list[j]:\n",
    "                pass\n",
    "            else:\n",
    "                product *= list[j]\n",
    "        returnArray.append(product)\n",
    "    return returnArray\n"
   ]
  },
  {
   "cell_type": "code",
   "execution_count": 26,
   "metadata": {},
   "outputs": [
    {
     "name": "stdout",
     "output_type": "stream",
     "text": [
      "[2, 3, 6]\n"
     ]
    }
   ],
   "source": [
    "list = [1, 2, 3, 4, 5]\n",
    "list2 = [3,2,1]\n",
    "print(product_array(list2))"
   ]
  }
 ],
 "metadata": {
  "kernelspec": {
   "display_name": "pythonProject",
   "language": "python",
   "name": "python3"
  },
  "language_info": {
   "codemirror_mode": {
    "name": "ipython",
    "version": 3
   },
   "file_extension": ".py",
   "mimetype": "text/x-python",
   "name": "python",
   "nbconvert_exporter": "python",
   "pygments_lexer": "ipython3",
   "version": "3.10.0"
  }
 },
 "nbformat": 4,
 "nbformat_minor": 2
}
